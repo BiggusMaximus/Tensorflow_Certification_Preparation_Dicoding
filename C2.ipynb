{
  "nbformat": 4,
  "nbformat_minor": 0,
  "metadata": {
    "colab": {
      "name": "C2.ipynb",
      "provenance": []
    },
    "kernelspec": {
      "name": "python3",
      "display_name": "Python 3"
    },
    "language_info": {
      "name": "python"
    }
  },
  "cells": [
    {
      "cell_type": "code",
      "execution_count": null,
      "metadata": {
        "id": "UVATg_7aNtLT"
      },
      "outputs": [],
      "source": [
        "# =============================================================================\n",
        "# PROBLEM C2\n",
        "#\n",
        "# Create a classifier for the MNIST Handwritten digit dataset.\n",
        "# The test will expect it to classify 10 classes.\n",
        "#\n",
        "# Don't use lambda layers in your model.\n",
        "#\n",
        "# Desired accuracy AND validation_accuracy > 91%\n",
        "# ============================================================================="
      ]
    },
    {
      "cell_type": "code",
      "source": [
        "import tensorflow as tf"
      ],
      "metadata": {
        "id": "fFuS9P5xQ3La"
      },
      "execution_count": null,
      "outputs": []
    },
    {
      "cell_type": "code",
      "source": [
        "def solution_C2():\n",
        "    mnist = tf.keras.datasets.mnist\n",
        "\n",
        "    (x_train, y_train),(x_test, y_test) = mnist.load_data()\n",
        "    x_train, x_test = x_train / 255.0, x_test / 255.0\n",
        "\n",
        "    model = tf.keras.models.Sequential([\n",
        "    tf.keras.layers.Conv2D(64, (3, 3), activation='relu', input_shape=(28, 28, 1)),\n",
        "    tf.keras.layers.MaxPooling2D(2, 2),\n",
        "    tf.keras.layers.Conv2D(64, (3, 3), activation='relu'),\n",
        "    tf.keras.layers.MaxPooling2D(2, 2),\n",
        "    tf.keras.layers.Flatten(),\n",
        "    tf.keras.layers.Dense(512, activation=tf.nn.relu),\n",
        "    tf.keras.layers.Dense(10, activation=tf.nn.softmax)\n",
        "    ])\n",
        "\n",
        "    model.compile(optimizer = tf.optimizers.Adam(),\n",
        "                loss = 'sparse_categorical_crossentropy',\n",
        "                metrics=['accuracy'])\n",
        "\n",
        "    model.fit(x_train, y_train, epochs=20, validation_data=[x_test, y_test])\n",
        "\n",
        "    return model"
      ],
      "metadata": {
        "id": "mjETijznQ5Xg"
      },
      "execution_count": null,
      "outputs": []
    },
    {
      "cell_type": "code",
      "source": [
        "# The code below is to save your model as a .h5 file.\n",
        "# It will be saved automatically in your Submission folder.\n",
        "if __name__ == '__main__':\n",
        "    # DO NOT CHANGE THIS CODE\n",
        "    model = solution_C2()\n",
        "    model.save(\"model_C2.h5\")"
      ],
      "metadata": {
        "id": "QccisOEqQ8-p",
        "colab": {
          "base_uri": "https://localhost:8080/"
        },
        "outputId": "5a4cb7a6-a117-48d3-87f0-a7c8d212c211"
      },
      "execution_count": null,
      "outputs": [
        {
          "output_type": "stream",
          "name": "stdout",
          "text": [
            "Epoch 1/20\n",
            "1875/1875 [==============================] - 96s 51ms/step - loss: 0.1040 - accuracy: 0.9676 - val_loss: 0.0449 - val_accuracy: 0.9848\n",
            "Epoch 2/20\n",
            "1875/1875 [==============================] - 94s 50ms/step - loss: 0.0383 - accuracy: 0.9877 - val_loss: 0.0252 - val_accuracy: 0.9925\n",
            "Epoch 3/20\n",
            "1875/1875 [==============================] - 94s 50ms/step - loss: 0.0243 - accuracy: 0.9923 - val_loss: 0.0300 - val_accuracy: 0.9895\n",
            "Epoch 4/20\n",
            "1875/1875 [==============================] - 95s 50ms/step - loss: 0.0183 - accuracy: 0.9941 - val_loss: 0.0404 - val_accuracy: 0.9888\n",
            "Epoch 5/20\n",
            "1875/1875 [==============================] - 94s 50ms/step - loss: 0.0131 - accuracy: 0.9959 - val_loss: 0.0344 - val_accuracy: 0.9902\n",
            "Epoch 6/20\n",
            "1875/1875 [==============================] - 94s 50ms/step - loss: 0.0113 - accuracy: 0.9960 - val_loss: 0.0388 - val_accuracy: 0.9909\n",
            "Epoch 7/20\n",
            "1875/1875 [==============================] - 95s 51ms/step - loss: 0.0092 - accuracy: 0.9971 - val_loss: 0.0317 - val_accuracy: 0.9926\n",
            "Epoch 8/20\n",
            "1875/1875 [==============================] - 94s 50ms/step - loss: 0.0082 - accuracy: 0.9972 - val_loss: 0.0363 - val_accuracy: 0.9911\n",
            "Epoch 9/20\n",
            "1875/1875 [==============================] - 94s 50ms/step - loss: 0.0069 - accuracy: 0.9980 - val_loss: 0.0436 - val_accuracy: 0.9914\n",
            "Epoch 10/20\n",
            "1875/1875 [==============================] - 94s 50ms/step - loss: 0.0067 - accuracy: 0.9978 - val_loss: 0.0423 - val_accuracy: 0.9916\n",
            "Epoch 11/20\n",
            "1875/1875 [==============================] - 93s 50ms/step - loss: 0.0052 - accuracy: 0.9983 - val_loss: 0.0412 - val_accuracy: 0.9910\n",
            "Epoch 12/20\n",
            "1875/1875 [==============================] - 93s 50ms/step - loss: 0.0065 - accuracy: 0.9980 - val_loss: 0.0527 - val_accuracy: 0.9899\n",
            "Epoch 13/20\n",
            "1875/1875 [==============================] - 93s 50ms/step - loss: 0.0042 - accuracy: 0.9987 - val_loss: 0.0605 - val_accuracy: 0.9902\n",
            "Epoch 14/20\n",
            "1875/1875 [==============================] - 95s 51ms/step - loss: 0.0048 - accuracy: 0.9987 - val_loss: 0.0509 - val_accuracy: 0.9918\n",
            "Epoch 15/20\n",
            "1875/1875 [==============================] - 94s 50ms/step - loss: 0.0038 - accuracy: 0.9988 - val_loss: 0.0685 - val_accuracy: 0.9909\n",
            "Epoch 16/20\n",
            "1875/1875 [==============================] - 94s 50ms/step - loss: 0.0069 - accuracy: 0.9983 - val_loss: 0.0598 - val_accuracy: 0.9907\n",
            "Epoch 17/20\n",
            "1875/1875 [==============================] - 94s 50ms/step - loss: 0.0028 - accuracy: 0.9991 - val_loss: 0.0796 - val_accuracy: 0.9889\n",
            "Epoch 18/20\n",
            "1875/1875 [==============================] - 94s 50ms/step - loss: 0.0049 - accuracy: 0.9986 - val_loss: 0.0602 - val_accuracy: 0.9913\n",
            "Epoch 19/20\n",
            "1875/1875 [==============================] - 93s 50ms/step - loss: 0.0038 - accuracy: 0.9987 - val_loss: 0.0647 - val_accuracy: 0.9914\n",
            "Epoch 20/20\n",
            "1875/1875 [==============================] - 95s 51ms/step - loss: 0.0028 - accuracy: 0.9991 - val_loss: 0.0522 - val_accuracy: 0.9923\n"
          ]
        }
      ]
    }
  ]
}