{
  "nbformat": 4,
  "nbformat_minor": 0,
  "metadata": {
    "colab": {
      "name": "B2.ipynb",
      "provenance": [],
      "authorship_tag": "ABX9TyN63PbjKsocFEUHiZI6jKgu",
      "include_colab_link": true
    },
    "kernelspec": {
      "name": "python3",
      "display_name": "Python 3"
    },
    "language_info": {
      "name": "python"
    },
    "accelerator": "GPU",
    "gpuClass": "standard"
  },
  "cells": [
    {
      "cell_type": "markdown",
      "metadata": {
        "id": "view-in-github",
        "colab_type": "text"
      },
      "source": [
        "<a href=\"https://colab.research.google.com/github/BiggusMaximus/Tensorflow_Certification_Preparation_Dicoding/blob/main/B2.ipynb\" target=\"_parent\"><img src=\"https://colab.research.google.com/assets/colab-badge.svg\" alt=\"Open In Colab\"/></a>"
      ]
    },
    {
      "cell_type": "code",
      "execution_count": 2,
      "metadata": {
        "colab": {
          "base_uri": "https://localhost:8080/"
        },
        "id": "Z-0earQz0lE6",
        "outputId": "61995ece-306a-4786-9451-46280ed51345"
      },
      "outputs": [
        {
          "output_type": "stream",
          "name": "stdout",
          "text": [
            "Mounted at /content/drive\n"
          ]
        }
      ],
      "source": [
        "from google.colab import drive\n",
        "drive.mount('/content/drive')"
      ]
    },
    {
      "cell_type": "code",
      "source": [
        "# =============================================================================\n",
        "# PROBLEM B2\n",
        "#\n",
        "# Build a classifier for the Fashion MNIST dataset.\n",
        "# The test will expect it to classify 10 classes.\n",
        "# The input shape should be 28x28 monochrome. Do not resize the data.\n",
        "# Your input layer should accept (28, 28) as the input shape.\n",
        "#\n",
        "# Don't use lambda layers in your model.\n",
        "#\n",
        "# Desired accuracy AND validation_accuracy > 83%\n",
        "# =============================================================================\n",
        "\n",
        "import tensorflow as tf\n",
        "\n",
        "\n",
        "def solution_B2():\n",
        "    fashion_mnist = tf.keras.datasets.fashion_mnist\n",
        "    (training_images, training_labels), (test_images, test_labels) = fashion_mnist.load_data()\n",
        "\n",
        "    # NORMALIZE YOUR IMAGE HERE\n",
        "    training_images = training_images / 255.0\n",
        "    test_images = test_images / 255.\n",
        "    # DEFINE YOUR MODEL HERE\n",
        "    model = tf.keras.models.Sequential([\n",
        "      tf.keras.layers.Flatten(),\n",
        "      tf.keras.layers.Dense(128, activation=tf.nn.relu),\n",
        "      tf.keras.layers.Dense(10, activation=tf.nn.softmax)\n",
        "    ])\n",
        "\n",
        "    # End with 10 Neuron Dense, activated by softmax\n",
        "\n",
        "    # COMPILE MODEL HERE\n",
        "    model.compile(optimizer='adam', loss='sparse_categorical_crossentropy', metrics=['accuracy'])\n",
        "\n",
        "    # TRAIN YOUR MODEL HERE\n",
        "    model.fit(training_images, training_labels, epochs=20, verbose=2)\n",
        "    test_loss = model.evaluate(test_images, test_labels)\n",
        "    return model\n",
        "\n",
        "\n",
        "# The code below is to save your model as a .h5 file.\n",
        "# It will be saved automatically in your Submission folder.\n",
        "if __name__ == '__main__':\n",
        "    # DO NOT CHANGE THIS CODE\n",
        "    model = solution_B2()\n",
        "    model.save(\"model_B2.h5\")"
      ],
      "metadata": {
        "colab": {
          "base_uri": "https://localhost:8080/"
        },
        "id": "yK28jJrG3buj",
        "outputId": "e9f9b5f3-f4f7-4c55-d098-e15c822a448a"
      },
      "execution_count": 7,
      "outputs": [
        {
          "output_type": "stream",
          "name": "stdout",
          "text": [
            "Epoch 1/20\n",
            "1875/1875 - 3s - loss: 0.5017 - accuracy: 0.8243 - 3s/epoch - 2ms/step\n",
            "Epoch 2/20\n",
            "1875/1875 - 3s - loss: 0.3772 - accuracy: 0.8655 - 3s/epoch - 2ms/step\n",
            "Epoch 3/20\n",
            "1875/1875 - 3s - loss: 0.3361 - accuracy: 0.8784 - 3s/epoch - 2ms/step\n",
            "Epoch 4/20\n",
            "1875/1875 - 3s - loss: 0.3144 - accuracy: 0.8845 - 3s/epoch - 2ms/step\n",
            "Epoch 5/20\n",
            "1875/1875 - 3s - loss: 0.2962 - accuracy: 0.8909 - 3s/epoch - 2ms/step\n",
            "Epoch 6/20\n",
            "1875/1875 - 3s - loss: 0.2823 - accuracy: 0.8951 - 3s/epoch - 2ms/step\n",
            "Epoch 7/20\n",
            "1875/1875 - 3s - loss: 0.2683 - accuracy: 0.9002 - 3s/epoch - 2ms/step\n",
            "Epoch 8/20\n",
            "1875/1875 - 3s - loss: 0.2589 - accuracy: 0.9030 - 3s/epoch - 2ms/step\n",
            "Epoch 9/20\n",
            "1875/1875 - 3s - loss: 0.2499 - accuracy: 0.9069 - 3s/epoch - 2ms/step\n",
            "Epoch 10/20\n",
            "1875/1875 - 3s - loss: 0.2413 - accuracy: 0.9105 - 3s/epoch - 2ms/step\n",
            "Epoch 11/20\n",
            "1875/1875 - 3s - loss: 0.2349 - accuracy: 0.9107 - 3s/epoch - 2ms/step\n",
            "Epoch 12/20\n",
            "1875/1875 - 3s - loss: 0.2263 - accuracy: 0.9147 - 3s/epoch - 2ms/step\n",
            "Epoch 13/20\n",
            "1875/1875 - 3s - loss: 0.2201 - accuracy: 0.9172 - 3s/epoch - 2ms/step\n",
            "Epoch 14/20\n",
            "1875/1875 - 3s - loss: 0.2124 - accuracy: 0.9202 - 3s/epoch - 2ms/step\n",
            "Epoch 15/20\n",
            "1875/1875 - 3s - loss: 0.2082 - accuracy: 0.9224 - 3s/epoch - 2ms/step\n",
            "Epoch 16/20\n",
            "1875/1875 - 3s - loss: 0.2029 - accuracy: 0.9244 - 3s/epoch - 2ms/step\n",
            "Epoch 17/20\n",
            "1875/1875 - 3s - loss: 0.1955 - accuracy: 0.9268 - 3s/epoch - 2ms/step\n",
            "Epoch 18/20\n",
            "1875/1875 - 3s - loss: 0.1914 - accuracy: 0.9284 - 3s/epoch - 2ms/step\n",
            "Epoch 19/20\n",
            "1875/1875 - 3s - loss: 0.1844 - accuracy: 0.9310 - 3s/epoch - 2ms/step\n",
            "Epoch 20/20\n",
            "1875/1875 - 3s - loss: 0.1791 - accuracy: 0.9328 - 3s/epoch - 2ms/step\n",
            "313/313 [==============================] - 1s 2ms/step - loss: 0.3568 - accuracy: 0.8875\n"
          ]
        }
      ]
    },
    {
      "cell_type": "code",
      "source": [
        ""
      ],
      "metadata": {
        "id": "luNEmVhe7Qnf"
      },
      "execution_count": null,
      "outputs": []
    }
  ]
}