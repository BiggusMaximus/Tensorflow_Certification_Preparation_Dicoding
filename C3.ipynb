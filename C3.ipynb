{
  "nbformat": 4,
  "nbformat_minor": 0,
  "metadata": {
    "colab": {
      "name": "C3.ipynb",
      "provenance": []
    },
    "kernelspec": {
      "name": "python3",
      "display_name": "Python 3"
    },
    "language_info": {
      "name": "python"
    }
  },
  "cells": [
    {
      "cell_type": "code",
      "execution_count": null,
      "metadata": {
        "id": "vFkdT8QNN5gc"
      },
      "outputs": [],
      "source": [
        "# =======================================================================================================\n",
        "# PROBLEM C3\n",
        "#\n",
        "# Build a CNN based classifier for Cats vs Dogs dataset.\n",
        "# Your input layer should accept 150x150 with 3 bytes color as the input shape.\n",
        "# This is unlabeled data, use ImageDataGenerator to automatically label it.\n",
        "# Don't use lambda layers in your model.\n",
        "#\n",
        "# The dataset used in this problem is originally published in https://www.kaggle.com/c/dogs-vs-cats/data\n",
        "#\n",
        "# Desired accuracy and validation_accuracy > 72%\n",
        "# ========================================================================================================"
      ]
    },
    {
      "cell_type": "code",
      "source": [
        "import tensorflow as tf\n",
        "import urllib.request\n",
        "import zipfile\n",
        "import tensorflow as tf\n",
        "import os\n",
        "from tensorflow.keras.optimizers import RMSprop\n",
        "from tensorflow.keras.preprocessing.image import ImageDataGenerator"
      ],
      "metadata": {
        "id": "rFyrzsxgVlAd"
      },
      "execution_count": 2,
      "outputs": []
    },
    {
      "cell_type": "code",
      "source": [
        "def solution_C3():\n",
        "    data_url = 'https://github.com/dicodingacademy/assets/raw/main/Simulation/machine_learning/cats_and_dogs.zip'\n",
        "    urllib.request.urlretrieve(data_url, 'cats_and_dogs.zip')\n",
        "    local_file = 'cats_and_dogs.zip'\n",
        "    zip_ref = zipfile.ZipFile(local_file, 'r')\n",
        "    zip_ref.extractall('data/')\n",
        "    zip_ref.close()\n",
        "\n",
        "    BASE_DIR = 'data/cats_and_dogs_filtered'\n",
        "    train_dir = os.path.join(BASE_DIR, 'train')\n",
        "    validation_dir = os.path.join(BASE_DIR, 'validation')\n",
        "\n",
        "    train_datagen = ImageDataGenerator(rescale=1./255.,\n",
        "                                       rotation_range=40,\n",
        "                                       width_shift_range=0.2,\n",
        "                                       height_shift_range=0.2,\n",
        "                                       shear_range=0.2,\n",
        "                                       zoom_range=0.2,\n",
        "                                       horizontal_flip=True,\n",
        "                                       fill_mode='nearest')\n",
        "    \n",
        "    test_datagen = ImageDataGenerator(rescale=1./255.)\n",
        "\n",
        "    train_generator = train_datagen.flow_from_directory(directory=\"data/cats_and_dogs_filtered/train/\",\n",
        "                                                      batch_size=200,\n",
        "                                                      class_mode='binary',\n",
        "                                                      target_size=(150, 150))\n",
        "    \n",
        "    validation_generator = test_datagen.flow_from_directory(directory=\"data/cats_and_dogs_filtered/validation/\",\n",
        "                                                                batch_size=200,\n",
        "                                                                class_mode='binary',\n",
        "                                                                target_size=(150, 150))\n",
        "\n",
        "    model = tf.keras.models.Sequential([\n",
        "        tf.keras.layers.Conv2D(16, (3, 3), activation='relu', input_shape=(150, 150, 3)),\n",
        "        tf.keras.layers.MaxPooling2D(2, 2),\n",
        "        tf.keras.layers.Conv2D(32, (3, 3), activation='relu'),\n",
        "        tf.keras.layers.MaxPooling2D(2, 2),\n",
        "        tf.keras.layers.Conv2D(64, (3, 3), activation='relu'),\n",
        "        tf.keras.layers.MaxPooling2D(2, 2),\n",
        "        tf.keras.layers.Conv2D(64, (3, 3), activation='relu'),\n",
        "        tf.keras.layers.MaxPooling2D(2, 2),\n",
        "        tf.keras.layers.Conv2D(64, (3, 3), activation='relu'),\n",
        "        tf.keras.layers.MaxPooling2D(2, 2),\n",
        "        tf.keras.layers.Flatten(),\n",
        "        tf.keras.layers.Dense(1024, activation='relu'),\n",
        "        tf.keras.layers.Dense(256, activation='relu'),\n",
        "        tf.keras.layers.Dense(1, activation='sigmoid')\n",
        "        ])\n",
        "  \n",
        "    lr_schedule = tf.keras.optimizers.schedules.ExponentialDecay(\n",
        "        initial_learning_rate=1e-4,                                                         \n",
        "        decay_steps=200,\n",
        "        decay_rate=0.90\n",
        "    )\n",
        "\n",
        "    optimizer = tf.keras.optimizers.Adam(\n",
        "        learning_rate=lr_schedule\n",
        "    )\n",
        "\n",
        "    model.compile(loss='binary_crossentropy', \n",
        "                  optimizer=optimizer, \n",
        "                  metrics=['accuracy'])\n",
        "    \n",
        "    model.fit(train_generator,\n",
        "              epochs=15,\n",
        "              steps_per_epoch=10,\n",
        "              verbose=1,\n",
        "              validation_data=validation_generator,\n",
        "              validation_steps=5)\n",
        "\n",
        "    return model"
      ],
      "metadata": {
        "id": "TxwnKXF6Vmss"
      },
      "execution_count": 37,
      "outputs": []
    },
    {
      "cell_type": "code",
      "source": [
        "# The code below is to save your model as a .h5 file.\n",
        "# It will be saved automatically in your Submission folder.\n",
        "if __name__ == '__main__':\n",
        "    # DO NOT CHANGE THIS CODE\n",
        "    model = solution_C3()\n",
        "    model.save(\"model_C3.h5\")"
      ],
      "metadata": {
        "colab": {
          "base_uri": "https://localhost:8080/"
        },
        "id": "s6UIPvuBZvLH",
        "outputId": "c316418d-4867-4078-a40f-4e42cbb9dace"
      },
      "execution_count": null,
      "outputs": [
        {
          "output_type": "stream",
          "name": "stdout",
          "text": [
            "Found 2000 images belonging to 2 classes.\n",
            "Found 1000 images belonging to 2 classes.\n",
            "Epoch 1/15\n",
            "10/10 [==============================] - 65s 6s/step - loss: 0.6931 - accuracy: 0.5090 - val_loss: 0.6913 - val_accuracy: 0.5580\n",
            "Epoch 2/15\n",
            "10/10 [==============================] - 62s 6s/step - loss: 0.6913 - accuracy: 0.5245 - val_loss: 0.6879 - val_accuracy: 0.5630\n",
            "Epoch 3/15\n",
            "10/10 [==============================] - 66s 7s/step - loss: 0.6875 - accuracy: 0.5620 - val_loss: 0.6825 - val_accuracy: 0.5730\n",
            "Epoch 4/15\n",
            "10/10 [==============================] - 61s 6s/step - loss: 0.6838 - accuracy: 0.5580 - val_loss: 0.6758 - val_accuracy: 0.5740\n",
            "Epoch 5/15\n",
            "10/10 [==============================] - 61s 6s/step - loss: 0.6704 - accuracy: 0.6120 - val_loss: 0.6714 - val_accuracy: 0.5810\n",
            "Epoch 6/15\n",
            "10/10 [==============================] - 62s 6s/step - loss: 0.6668 - accuracy: 0.5900 - val_loss: 0.6666 - val_accuracy: 0.5720\n",
            "Epoch 7/15\n",
            "10/10 [==============================] - 61s 6s/step - loss: 0.6666 - accuracy: 0.5900 - val_loss: 0.6611 - val_accuracy: 0.5890\n",
            "Epoch 8/15\n",
            "10/10 [==============================] - 62s 6s/step - loss: 0.6560 - accuracy: 0.6145 - val_loss: 0.6569 - val_accuracy: 0.6100\n",
            "Epoch 9/15\n",
            "10/10 [==============================] - 61s 6s/step - loss: 0.6479 - accuracy: 0.6260 - val_loss: 0.6336 - val_accuracy: 0.6340\n",
            "Epoch 10/15\n",
            "10/10 [==============================] - 61s 6s/step - loss: 0.6581 - accuracy: 0.6110 - val_loss: 0.6322 - val_accuracy: 0.6540\n",
            "Epoch 11/15\n",
            "10/10 [==============================] - 61s 6s/step - loss: 0.6617 - accuracy: 0.6070 - val_loss: 0.6546 - val_accuracy: 0.6010\n",
            "Epoch 12/15\n",
            " 1/10 [==>...........................] - ETA: 1:13 - loss: 0.6476 - accuracy: 0.6450"
          ]
        }
      ]
    }
  ]
}