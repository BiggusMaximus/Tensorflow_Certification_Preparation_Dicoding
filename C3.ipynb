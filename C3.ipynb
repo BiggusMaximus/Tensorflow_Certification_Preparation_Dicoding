{
  "cells": [
    {
      "cell_type": "code",
      "execution_count": null,
      "metadata": {
        "id": "vFkdT8QNN5gc"
      },
      "outputs": [],
      "source": [
        "# =======================================================================================================\n",
        "# PROBLEM C3\n",
        "#\n",
        "# Build a CNN based classifier for Cats vs Dogs dataset.\n",
        "# Your input layer should accept 150x150 with 3 bytes color as the input shape.\n",
        "# This is unlabeled data, use ImageDataGenerator to automatically label it.\n",
        "# Don't use lambda layers in your model.\n",
        "#\n",
        "# The dataset used in this problem is originally published in https://www.kaggle.com/c/dogs-vs-cats/data\n",
        "#\n",
        "# Desired accuracy and validation_accuracy > 72%\n",
        "# ========================================================================================================"
      ]
    },
    {
      "cell_type": "code",
      "execution_count": null,
      "metadata": {
        "id": "rFyrzsxgVlAd"
      },
      "outputs": [],
      "source": [
        "import tensorflow as tf\n",
        "import urllib.request\n",
        "import zipfile\n",
        "import tensorflow as tf\n",
        "import os\n",
        "from tensorflow.keras.optimizers import RMSprop\n",
        "from tensorflow.keras.preprocessing.image import ImageDataGenerator"
      ]
    },
    {
      "cell_type": "code",
      "execution_count": null,
      "metadata": {
        "id": "TxwnKXF6Vmss"
      },
      "outputs": [],
      "source": [
        "def solution_C3():\n",
        "    data_url = 'https://github.com/dicodingacademy/assets/raw/main/Simulation/machine_learning/cats_and_dogs.zip'\n",
        "    urllib.request.urlretrieve(data_url, 'cats_and_dogs.zip')\n",
        "    local_file = 'cats_and_dogs.zip'\n",
        "    zip_ref = zipfile.ZipFile(local_file, 'r')\n",
        "    zip_ref.extractall('data/')\n",
        "    zip_ref.close()\n",
        "\n",
        "    BASE_DIR = 'data/cats_and_dogs_filtered'\n",
        "    train_dir = os.path.join(BASE_DIR, 'train')\n",
        "    validation_dir = os.path.join(BASE_DIR, 'validation')\n",
        "\n",
        "    train_datagen = ImageDataGenerator(rescale=1./255)\n",
        "    \n",
        "    test_datagen = ImageDataGenerator(rescale=1./255)\n",
        "\n",
        "    train_generator = train_datagen.flow_from_directory(directory=\"data/cats_and_dogs_filtered/train/\",\n",
        "                                                      batch_size=100,\n",
        "                                                      class_mode='binary',\n",
        "                                                      target_size=(150, 150))\n",
        "    \n",
        "    validation_generator = test_datagen.flow_from_directory(directory=\"data/cats_and_dogs_filtered/validation/\",\n",
        "                                                                batch_size=100,\n",
        "                                                                class_mode='binary',\n",
        "                                                                target_size=(150, 150))\n",
        "\n",
        "    model = tf.keras.models.Sequential([\n",
        "      tf.keras.layers.Conv2D(32, (3,3), activation='relu', input_shape=(150, 150, 3)),\n",
        "      tf.keras.layers.MaxPooling2D(2, 2),\n",
        "      tf.keras.layers.Conv2D(32, (3,3), activation='relu'),\n",
        "      tf.keras.layers.MaxPooling2D(2, 2),\n",
        "      tf.keras.layers.Flatten(),\n",
        "      tf.keras.layers.Dense(1024, activation='relu'),\n",
        "      tf.keras.layers.Dense(256, activation='relu'),\n",
        "      tf.keras.layers.Dropout(0.2),\n",
        "      tf.keras.layers.Dense(1, activation='sigmoid')\n",
        "      ])\n",
        "  \n",
        "    lr_schedule = tf.keras.optimizers.schedules.ExponentialDecay(\n",
        "        initial_learning_rate=2e-4,                                                         \n",
        "        decay_steps=200,\n",
        "        decay_rate=0.90\n",
        "    )\n",
        "\n",
        "    optimizer = tf.keras.optimizers.Adam(\n",
        "        learning_rate=lr_schedule\n",
        "    )\n",
        "\n",
        "    model.compile(loss='binary_crossentropy', \n",
        "                  optimizer=optimizer, \n",
        "                  metrics=['accuracy'])\n",
        "    \n",
        "    model.fit(train_generator,\n",
        "              epochs=15,\n",
        "              steps_per_epoch=20,\n",
        "              verbose=1,\n",
        "              validation_data=validation_generator,\n",
        "              validation_steps=10)\n",
        "\n",
        "    return model"
      ]
    },
    {
      "cell_type": "code",
      "execution_count": null,
      "metadata": {
        "colab": {
          "base_uri": "https://localhost:8080/"
        },
        "id": "s6UIPvuBZvLH",
        "outputId": "ea517287-89ca-4bd0-d828-383f2d5e2e95"
      },
      "outputs": [
        {
          "output_type": "stream",
          "name": "stdout",
          "text": [
            "Found 2000 images belonging to 2 classes.\n",
            "Found 1000 images belonging to 2 classes.\n",
            "Epoch 1/15\n",
            "20/20 [==============================] - 74s 4s/step - loss: 0.7546 - accuracy: 0.5000 - val_loss: 0.7182 - val_accuracy: 0.5000\n",
            "Epoch 2/15\n",
            "20/20 [==============================] - 69s 3s/step - loss: 0.6989 - accuracy: 0.5330 - val_loss: 0.6712 - val_accuracy: 0.5820\n",
            "Epoch 3/15\n",
            "20/20 [==============================] - 69s 3s/step - loss: 0.6610 - accuracy: 0.5955 - val_loss: 0.6493 - val_accuracy: 0.6440\n",
            "Epoch 4/15\n",
            "20/20 [==============================] - 71s 4s/step - loss: 0.6101 - accuracy: 0.6730 - val_loss: 0.6087 - val_accuracy: 0.6860\n",
            "Epoch 5/15\n",
            "20/20 [==============================] - 70s 4s/step - loss: 0.5581 - accuracy: 0.7260 - val_loss: 0.5765 - val_accuracy: 0.6910\n",
            "Epoch 6/15\n",
            "20/20 [==============================] - 70s 4s/step - loss: 0.5039 - accuracy: 0.7615 - val_loss: 0.5805 - val_accuracy: 0.6910\n",
            "Epoch 7/15\n",
            "20/20 [==============================] - 70s 4s/step - loss: 0.4458 - accuracy: 0.8090 - val_loss: 0.5404 - val_accuracy: 0.7210\n",
            "Epoch 8/15\n",
            "20/20 [==============================] - 71s 4s/step - loss: 0.4128 - accuracy: 0.8095 - val_loss: 0.5550 - val_accuracy: 0.7060\n",
            "Epoch 9/15\n",
            "20/20 [==============================] - 70s 4s/step - loss: 0.3457 - accuracy: 0.8695 - val_loss: 0.5490 - val_accuracy: 0.7210\n",
            "Epoch 10/15\n",
            "20/20 [==============================] - 70s 4s/step - loss: 0.3017 - accuracy: 0.8850 - val_loss: 0.5958 - val_accuracy: 0.7010\n",
            "Epoch 11/15\n",
            "20/20 [==============================] - 71s 4s/step - loss: 0.2730 - accuracy: 0.8950 - val_loss: 0.5897 - val_accuracy: 0.7110\n",
            "Epoch 12/15\n",
            "20/20 [==============================] - 70s 4s/step - loss: 0.2404 - accuracy: 0.9095 - val_loss: 0.6054 - val_accuracy: 0.7140\n",
            "Epoch 13/15\n",
            "20/20 [==============================] - 70s 4s/step - loss: 0.1869 - accuracy: 0.9490 - val_loss: 0.6061 - val_accuracy: 0.7280\n",
            "Epoch 14/15\n",
            "20/20 [==============================] - 71s 4s/step - loss: 0.1654 - accuracy: 0.9555 - val_loss: 0.6383 - val_accuracy: 0.7190\n",
            "Epoch 15/15\n",
            "20/20 [==============================] - 70s 4s/step - loss: 0.1293 - accuracy: 0.9690 - val_loss: 0.6685 - val_accuracy: 0.7190\n"
          ]
        }
      ],
      "source": [
        "# The code below is to save your model as a .h5 file.\n",
        "# It will be saved automatically in your Submission folder.\n",
        "if __name__ == '__main__':\n",
        "    # DO NOT CHANGE THIS CODE\n",
        "    model = solution_C3()\n",
        "    model.save(\"model_C3.h5\")"
      ]
    }
  ],
  "metadata": {
    "colab": {
      "name": "C3.ipynb",
      "provenance": []
    },
    "kernelspec": {
      "display_name": "Python 3",
      "name": "python3"
    },
    "language_info": {
      "name": "python"
    }
  },
  "nbformat": 4,
  "nbformat_minor": 0
}