{
  "nbformat": 4,
  "nbformat_minor": 0,
  "metadata": {
    "colab": {
      "name": "B3.ipynb",
      "provenance": [],
      "authorship_tag": "ABX9TyOGxojyisL8PUNFPJ7jTzny",
      "include_colab_link": true
    },
    "kernelspec": {
      "name": "python3",
      "display_name": "Python 3"
    },
    "language_info": {
      "name": "python"
    },
    "accelerator": "GPU",
    "gpuClass": "standard"
  },
  "cells": [
    {
      "cell_type": "markdown",
      "metadata": {
        "id": "view-in-github",
        "colab_type": "text"
      },
      "source": [
        "<a href=\"https://colab.research.google.com/github/BiggusMaximus/Tensorflow_Certification_Preparation_Dicoding/blob/main/B3.ipynb\" target=\"_parent\"><img src=\"https://colab.research.google.com/assets/colab-badge.svg\" alt=\"Open In Colab\"/></a>"
      ]
    },
    {
      "cell_type": "code",
      "source": [
        ""
      ],
      "metadata": {
        "id": "FdPEQTP688Sf"
      },
      "execution_count": null,
      "outputs": []
    },
    {
      "cell_type": "code",
      "execution_count": 1,
      "metadata": {
        "colab": {
          "base_uri": "https://localhost:8080/"
        },
        "id": "1UTVygqC8288",
        "outputId": "9a09ec97-e891-45bd-f029-ee33956ebd62"
      },
      "outputs": [
        {
          "output_type": "stream",
          "name": "stdout",
          "text": [
            "Found 2520 images belonging to 3 classes.\n",
            "Epoch 1/25\n",
            "20/20 [==============================] - 32s 886ms/step - loss: 1.2359 - accuracy: 0.3421\n",
            "Epoch 2/25\n",
            "20/20 [==============================] - 19s 921ms/step - loss: 1.0926 - accuracy: 0.4095\n",
            "Epoch 3/25\n",
            "20/20 [==============================] - 18s 921ms/step - loss: 1.0718 - accuracy: 0.4540\n",
            "Epoch 4/25\n",
            "20/20 [==============================] - 19s 921ms/step - loss: 0.9115 - accuracy: 0.5714\n",
            "Epoch 5/25\n",
            "20/20 [==============================] - 18s 919ms/step - loss: 0.7609 - accuracy: 0.6333\n",
            "Epoch 6/25\n",
            "20/20 [==============================] - 18s 921ms/step - loss: 0.7217 - accuracy: 0.6853\n",
            "Epoch 7/25\n",
            "20/20 [==============================] - 19s 968ms/step - loss: 0.5353 - accuracy: 0.7595\n",
            "Epoch 8/25\n",
            "20/20 [==============================] - 19s 925ms/step - loss: 0.4657 - accuracy: 0.7944\n",
            "Epoch 9/25\n",
            "20/20 [==============================] - 18s 919ms/step - loss: 0.3756 - accuracy: 0.8385\n",
            "Epoch 10/25\n",
            "20/20 [==============================] - 18s 921ms/step - loss: 0.3330 - accuracy: 0.8687\n",
            "Epoch 11/25\n",
            "20/20 [==============================] - 18s 917ms/step - loss: 0.3431 - accuracy: 0.8675\n",
            "Epoch 12/25\n",
            "20/20 [==============================] - 19s 922ms/step - loss: 0.3522 - accuracy: 0.8714\n",
            "Epoch 13/25\n",
            "20/20 [==============================] - 18s 918ms/step - loss: 0.2407 - accuracy: 0.9171\n",
            "Epoch 14/25\n",
            "20/20 [==============================] - 18s 921ms/step - loss: 0.2118 - accuracy: 0.9167\n",
            "Epoch 15/25\n",
            "20/20 [==============================] - 19s 920ms/step - loss: 0.2340 - accuracy: 0.9083\n",
            "Epoch 16/25\n",
            "20/20 [==============================] - 18s 918ms/step - loss: 0.1672 - accuracy: 0.9460\n",
            "Epoch 17/25\n",
            "20/20 [==============================] - 18s 919ms/step - loss: 0.1439 - accuracy: 0.9460\n",
            "Epoch 18/25\n",
            "20/20 [==============================] - 18s 915ms/step - loss: 0.5755 - accuracy: 0.9075\n",
            "Epoch 19/25\n",
            "20/20 [==============================] - 18s 915ms/step - loss: 0.0872 - accuracy: 0.9667\n",
            "Epoch 20/25\n",
            "20/20 [==============================] - 19s 930ms/step - loss: 0.1546 - accuracy: 0.9409\n",
            "Epoch 21/25\n",
            "20/20 [==============================] - 19s 922ms/step - loss: 0.1431 - accuracy: 0.9516\n",
            "Epoch 22/25\n",
            "20/20 [==============================] - 18s 915ms/step - loss: 0.0983 - accuracy: 0.9671\n",
            "Epoch 23/25\n",
            "20/20 [==============================] - 19s 964ms/step - loss: 0.1259 - accuracy: 0.9567\n",
            "Epoch 24/25\n",
            "20/20 [==============================] - 18s 915ms/step - loss: 0.1612 - accuracy: 0.9460\n",
            "Epoch 25/25\n",
            "20/20 [==============================] - 19s 922ms/step - loss: 0.0610 - accuracy: 0.9766\n"
          ]
        }
      ],
      "source": [
        "# ========================================================================================\n",
        "# PROBLEM B3\n",
        "#\n",
        "# Build a CNN based classifier for Rock-Paper-Scissors dataset.\n",
        "# Your input layer should accept 150x150 with 3 bytes color as the input shape.\n",
        "# This is unlabeled data, use ImageDataGenerator to automatically label it.\n",
        "# Don't use lambda layers in your model.\n",
        "#\n",
        "# The dataset used in this problem is created by Laurence Moroney (laurencemoroney.com).\n",
        "#\n",
        "# Desired accuracy AND validation_accuracy > 83%\n",
        "# ========================================================================================\n",
        "\n",
        "import urllib.request\n",
        "import zipfile\n",
        "import tensorflow as tf\n",
        "import os\n",
        "from keras_preprocessing.image import ImageDataGenerator\n",
        "\n",
        "\n",
        "def solution_B3():\n",
        "    data_url = 'https://github.com/dicodingacademy/assets/releases/download/release-rps/rps.zip'\n",
        "    urllib.request.urlretrieve(data_url, 'rps.zip')\n",
        "    local_file = 'rps.zip'\n",
        "    zip_ref = zipfile.ZipFile(local_file, 'r')\n",
        "    zip_ref.extractall('data/')\n",
        "    zip_ref.close()\n",
        "\n",
        "    TRAINING_DIR = \"data/rps/\"\n",
        "    training_datagen = ImageDataGenerator(\n",
        "      rescale = 1./255,\n",
        "\t    rotation_range=40,\n",
        "      width_shift_range=0.2,\n",
        "      height_shift_range=0.2,\n",
        "      shear_range=0.2,\n",
        "      zoom_range=0.2,\n",
        "      horizontal_flip=True,\n",
        "      fill_mode='nearest'\n",
        "    \n",
        "    )\n",
        "\n",
        "    # YOUR IMAGE SIZE SHOULD BE 150x150\n",
        "    # Make sure you used \"categorical\"\n",
        "    train_generator = training_datagen.flow_from_directory(\n",
        "\t    TRAINING_DIR,\n",
        "\t    target_size=(150,150),\n",
        "\t    class_mode='categorical',\n",
        "      batch_size=126\n",
        "    )\n",
        "\n",
        "    model=tf.keras.models.Sequential([\n",
        "        tf.keras.layers.Conv2D(64, (3,3), activation='relu', input_shape=(150, 150, 3)),\n",
        "        tf.keras.layers.MaxPooling2D(2, 2),\n",
        "        tf.keras.layers.Conv2D(64, (3,3), activation='relu'),\n",
        "        tf.keras.layers.MaxPooling2D(2,2),\n",
        "        tf.keras.layers.Conv2D(128, (3,3), activation='relu'),\n",
        "        tf.keras.layers.MaxPooling2D(2,2),\n",
        "        tf.keras.layers.Conv2D(128, (3,3), activation='relu'),\n",
        "        tf.keras.layers.MaxPooling2D(2,2),\n",
        "        tf.keras.layers.Flatten(),\n",
        "        tf.keras.layers.Dropout(0.5),\n",
        "        tf.keras.layers.Dense(512, activation='relu'),\n",
        "        tf.keras.layers.Dense(3, activation='softmax')\n",
        "    ])\n",
        "    model.compile(loss = 'categorical_crossentropy', optimizer='rmsprop', metrics=['accuracy'])\n",
        "    model.fit(\n",
        "        train_generator, \n",
        "        epochs=25, \n",
        "        steps_per_epoch=20, \n",
        "        verbose = 1\n",
        "    )\n",
        "\n",
        "    return model\n",
        "\n",
        "\n",
        "# The code below is to save your model as a .h5 file.\n",
        "# It will be saved automatically in your Submission folder.\n",
        "if __name__ == '__main__':\n",
        "    # DO NOT CHANGE THIS CODE\n",
        "    model=solution_B3()\n",
        "    model.save(\"model_B3.h5\")"
      ]
    },
    {
      "cell_type": "code",
      "source": [
        ""
      ],
      "metadata": {
        "id": "lSZM5hoTB8GM"
      },
      "execution_count": null,
      "outputs": []
    }
  ]
}